{
  "nbformat": 4,
  "nbformat_minor": 0,
  "metadata": {
    "colab": {
      "provenance": [],
      "collapsed_sections": [],
      "authorship_tag": "ABX9TyPPTqTVScqfZqKdLISOR/xU",
      "include_colab_link": true
    },
    "kernelspec": {
      "name": "python3",
      "display_name": "Python 3"
    },
    "language_info": {
      "name": "python"
    }
  },
  "cells": [
    {
      "cell_type": "markdown",
      "metadata": {
        "id": "view-in-github",
        "colab_type": "text"
      },
      "source": [
        "<a href=\"https://colab.research.google.com/github/sairatnamukta/Miscellaneous_problems/blob/main/Sum_of_pairs.ipynb\" target=\"_parent\"><img src=\"https://colab.research.google.com/assets/colab-badge.svg\" alt=\"Open In Colab\"/></a>"
      ]
    },
    {
      "cell_type": "code",
      "execution_count": null,
      "metadata": {
        "id": "QX3A76FXG00N"
      },
      "outputs": [],
      "source": [
        "l1=[1,1,2,2,3,3,4,5,6,6,6]\n",
        "c={}\n",
        "target=7\n",
        "total=0\n",
        "\n",
        "for i in l1:\n",
        "  if i  in c:\n",
        "    c[i]+=1\n",
        "  else:\n",
        "    c[i]=1\n",
        "print(c)\n",
        "for key in c:\n",
        "   if key!=target-key and target-key > 0 :\n",
        "      total+=c[key]*c[target-key]\n",
        "      c[key]=0\n",
        "      c[target-key]=0\n",
        "   elif target!=key:\n",
        "      total+=(c[key]*(c[key]-1))//2\n",
        "print(c,\"after\")\n",
        "print(total)\n"
      ]
    },
    {
      "cell_type": "code",
      "source": [
        "#Intersection of two arrays."
      ],
      "metadata": {
        "id": "jgAlUVjXRDdL"
      },
      "execution_count": null,
      "outputs": []
    },
    {
      "cell_type": "code",
      "source": [
        "l1=[1,1,2,3,4]\n",
        "l2=[1,2,3,4,5,5]\n",
        "d={}\n",
        "c=[]\n",
        "for i in l1:\n",
        "  if i not in d:\n",
        "        d[i]=1\n",
        "  d[i]+=1\n",
        "for j in l2:\n",
        "  if j in d:\n",
        "    c.append(j)\n",
        "print(c)\n"
      ],
      "metadata": {
        "id": "Iv7TDM4VRDaF"
      },
      "execution_count": null,
      "outputs": []
    },
    {
      "cell_type": "code",
      "source": [],
      "metadata": {
        "id": "N5OFPZ9TRDgH"
      },
      "execution_count": null,
      "outputs": []
    },
    {
      "cell_type": "code",
      "source": [],
      "metadata": {
        "id": "9uRDVIQwRDjZ"
      },
      "execution_count": null,
      "outputs": []
    },
    {
      "cell_type": "code",
      "source": [],
      "metadata": {
        "id": "q29GsiGDRDmQ"
      },
      "execution_count": null,
      "outputs": []
    },
    {
      "cell_type": "code",
      "source": [],
      "metadata": {
        "id": "1RxDENiHRDpV"
      },
      "execution_count": null,
      "outputs": []
    },
    {
      "cell_type": "code",
      "source": [],
      "metadata": {
        "id": "7Ez5TDaRRDs5"
      },
      "execution_count": null,
      "outputs": []
    }
  ]
}